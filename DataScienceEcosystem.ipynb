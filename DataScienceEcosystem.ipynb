{
 "cells": [
  {
   "cell_type": "markdown",
   "id": "3cf3b703-ac80-4f19-bb5b-428bf7b8b468",
   "metadata": {},
   "source": [
    "<h1>Data Science Tools and Ecosystem</h1>"
   ]
  },
  {
   "cell_type": "markdown",
   "id": "594e60f7-c9f1-4232-b9f8-dc48a5ec8bc0",
   "metadata": {},
   "source": [
    "<h3>In this notebook, Data Science Tools and Ecosystem are summarized.</h3>"
   ]
  },
  {
   "cell_type": "markdown",
   "id": "892a37ae-4276-430a-82a7-487417b09803",
   "metadata": {},
   "source": [
    "<h5>Some of the popular languages that Data Scientists use are:</h5>\n",
    "<ol>\n",
    "    <li>Python</li>\n",
    "    <li>R</li>\n",
    "    <li>SQL</li>\n",
    "</ol>"
   ]
  },
  {
   "cell_type": "markdown",
   "id": "9e04bff2-d226-41d3-a458-ff56b3824420",
   "metadata": {},
   "source": [
    "<h5>Some of the commonly used libraries used by Data Scientists include:</h5>\n",
    "<ol>\n",
    "    <li>NumPy</li>\n",
    "    <li>Matplotlib</li>\n",
    "    <li>Pandas</li>\n",
    "</ol>"
   ]
  },
  {
   "cell_type": "markdown",
   "id": "aa3b3d7d-5110-49be-b642-4520f3d06a5c",
   "metadata": {},
   "source": [
    "| Data Science Tools |\n",
    "|--------------------|\n",
    "| Jupyter Notebook   |\n",
    "| RStudio            |\n",
    "| Apache Zeppelin    |\n"
   ]
  },
  {
   "cell_type": "markdown",
   "id": "a3bb26e6-e0b6-4067-a4bf-38d191282768",
   "metadata": {},
   "source": [
    "<h3>Below are a few examples of evaluating arithmetic expressions in Python</h3>\n"
   ]
  },
  {
   "cell_type": "code",
   "execution_count": 1,
   "id": "05a6f366-008b-48e2-b3ad-40f998f945fc",
   "metadata": {},
   "outputs": [
    {
     "data": {
      "text/plain": [
       "17"
      ]
     },
     "execution_count": 1,
     "metadata": {},
     "output_type": "execute_result"
    }
   ],
   "source": [
    "#This a simple arithmetic expression to mutiply then add integers\n",
    "(3*4)+5"
   ]
  },
  {
   "cell_type": "code",
   "execution_count": 5,
   "id": "c0c8912b-6b39-49b6-9fa6-914310585810",
   "metadata": {},
   "outputs": [
    {
     "name": "stdout",
     "output_type": "stream",
     "text": [
      "3.3333333333333335\n"
     ]
    }
   ],
   "source": [
    "# This will convert 200 minutes to hours by diving by 60\n",
    "x=200\n",
    "y=200/60\n",
    "print(y)"
   ]
  },
  {
   "cell_type": "markdown",
   "id": "4bce55ea-7c03-4c7c-9360-3810bdce4af1",
   "metadata": {},
   "source": [
    "<b>Objectives:</b>\n",
    "<ul>\n",
    "    <li>Popular languages used for Data Science.</li>\n",
    "    <li>Various tools used by data scientists.</li>\n",
    "    <li>Open source tools for data science.</li>\n",
    "    <li>Commercial tools for data science.</li>\n",
    "    <li>Cloud Based Tools for Data Science.</li>\n",
    "    <li>Libraries for data science.</li>\n",
    "    <li>Application Programming Interfaces (APIs)</li>\n",
    "</ul>"
   ]
  },
  {
   "cell_type": "markdown",
   "id": "a45b15df-2eea-460d-b7ea-ee8b09d409d9",
   "metadata": {},
   "source": [
    "<h2>Author:</h2>\n",
    "<p>Vanshika Raj</p>"
   ]
  },
  {
   "cell_type": "code",
   "execution_count": null,
   "id": "804ac47c-c91c-44ef-8d0c-f3d828b36ded",
   "metadata": {},
   "outputs": [],
   "source": []
  }
 ],
 "metadata": {
  "kernelspec": {
   "display_name": "Python 3 (ipykernel)",
   "language": "python",
   "name": "python3"
  },
  "language_info": {
   "codemirror_mode": {
    "name": "ipython",
    "version": 3
   },
   "file_extension": ".py",
   "mimetype": "text/x-python",
   "name": "python",
   "nbconvert_exporter": "python",
   "pygments_lexer": "ipython3",
   "version": "3.12.3"
  }
 },
 "nbformat": 4,
 "nbformat_minor": 5
}
